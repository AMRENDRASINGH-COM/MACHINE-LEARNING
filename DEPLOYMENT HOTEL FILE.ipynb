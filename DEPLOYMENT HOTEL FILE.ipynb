{
 "cells": [
  {
   "cell_type": "markdown",
   "id": "e2d81a62-dc54-4aa2-9bcd-612f3431d507",
   "metadata": {},
   "source": [
    "## DEPLOYMENT "
   ]
  },
  {
   "cell_type": "code",
   "execution_count": 19,
   "id": "fd4da5dd-6ef7-4cfb-b69b-3d376180dfdb",
   "metadata": {},
   "outputs": [],
   "source": [
    "import gradio as gr\n",
    "import pickle\n",
    "\n",
    "from warnings import filterwarnings\n",
    "filterwarnings('ignore')"
   ]
  },
  {
   "cell_type": "code",
   "execution_count": 9,
   "id": "126a5e97-3a00-4351-9b50-bda039542051",
   "metadata": {},
   "outputs": [],
   "source": [
    "with open ('final_model_gradient.pkl','rb') as file:\n",
    "    model=pickle.load(file)"
   ]
  },
  {
   "cell_type": "code",
   "execution_count": 12,
   "id": "af7d41aa-ad40-4417-b8f1-2e4d383e47f0",
   "metadata": {},
   "outputs": [
    {
     "data": {
      "text/plain": [
       "array(['lead_time', 'market_segment_type', 'no_of_special_requests',\n",
       "       'avg_price_per_room', 'no_of_adults', 'no_of_weekend_nights',\n",
       "       'required_car_parking_space', 'no_of_week_nights', 'arrival_DAY',\n",
       "       'arrival_MONTH', 'arrival_YEAR'], dtype=object)"
      ]
     },
     "execution_count": 12,
     "metadata": {},
     "output_type": "execute_result"
    }
   ],
   "source": [
    "model.feature_names_in_"
   ]
  },
  {
   "cell_type": "code",
   "execution_count": null,
   "id": "016cfb2b-a497-4212-a2bc-f4c64d9eb7e1",
   "metadata": {},
   "outputs": [],
   "source": []
  },
  {
   "cell_type": "code",
   "execution_count": 20,
   "id": "b5610ec0-a79d-4898-b1e4-af5525462748",
   "metadata": {},
   "outputs": [
    {
     "data": {
      "text/plain": [
       "array([0.03529423])"
      ]
     },
     "execution_count": 20,
     "metadata": {},
     "output_type": "execute_result"
    }
   ],
   "source": [
    "model.predict_proba([[20,1,0,2,2,1,45,2,23,11,34]])[:,1]"
   ]
  },
  {
   "cell_type": "code",
   "execution_count": null,
   "id": "a4f24287-6cee-4f40-abc8-609ff29f1cf2",
   "metadata": {},
   "outputs": [],
   "source": []
  },
  {
   "cell_type": "code",
   "execution_count": 21,
   "id": "a0985d78-ff3e-4512-9e80-67aaa59123bb",
   "metadata": {},
   "outputs": [
    {
     "data": {
      "text/plain": [
       "0"
      ]
     },
     "execution_count": 21,
     "metadata": {},
     "output_type": "execute_result"
    }
   ],
   "source": [
    "model.predict([[10,1,0,100,2,2,0,1,4,5,2]])[0]"
   ]
  },
  {
   "cell_type": "code",
   "execution_count": null,
   "id": "c8faae71-8072-4651-b151-8be9f3aa6cc2",
   "metadata": {},
   "outputs": [],
   "source": []
  },
  {
   "cell_type": "code",
   "execution_count": 38,
   "id": "446577e4-5b11-4295-9fe1-6f2800eb7b9b",
   "metadata": {},
   "outputs": [],
   "source": [
    "def prediction (lt,mst,spcl,price,adult,wkend,park,wk,ar_d,ar_m,ar_w):\n",
    "\n",
    "    input_data = [[lt,mst,spcl,price,adult,wkend,park,wk,ar_d,ar_m,ar_w]]\n",
    "\n",
    "    pred = model.predict_proba(input_data)[:,1][0]\n",
    "\n",
    "    if pred>0.5:\n",
    "        return f\"THIS BOOKING IS MORE LIKELY TO GET CANCELED: PROBABILITY={round(pred*100,2)}\"\n",
    "    else:\n",
    "        return f\"THIS BOOKING IS LESS LIKELY TO GET CANCELED: PROBABILITY={round(pred*100,2)}\""
   ]
  },
  {
   "cell_type": "code",
   "execution_count": null,
   "id": "2905c71c-8e46-465f-8072-1ffcda7c4caf",
   "metadata": {},
   "outputs": [],
   "source": []
  },
  {
   "cell_type": "code",
   "execution_count": 40,
   "id": "543fd2a8-b202-4a6b-8123-0e0e4fb35d06",
   "metadata": {},
   "outputs": [],
   "source": [
    "#prediction(10,1,1,100,2,2,0,1,4,5,3)"
   ]
  },
  {
   "cell_type": "code",
   "execution_count": null,
   "id": "249403ef-eedd-42d7-9024-0ae7d35f33c4",
   "metadata": {},
   "outputs": [],
   "source": []
  },
  {
   "cell_type": "code",
   "execution_count": 54,
   "id": "ebfaf765-6e1a-4e83-8781-c6a1ac5656d4",
   "metadata": {},
   "outputs": [],
   "source": [
    "iface=gr.Interface(fn=prediction,inputs=[gr.Number(label='HOW MANY PRIOR DAYS BOKKING WAS MADE'),\n",
    "                          gr.Dropdown([('Online',1),('Offline',0)],label='HOW THE BOOKING WAS MADE'),\n",
    "                          gr.Dropdown([0,1,2,3,4,5],label='HOW MANY SPECIAL REQUEST MADE'),\n",
    "                          gr.Number(label='WHAT IS THE PRICE PER ROOM OFFERED'),\n",
    "                          gr.Dropdown([1,2,3,4],label='How Many ADULTS PER ROOM'),\n",
    "                          gr.Number(label='HOW MANY WEEKEND NIGHTS IN THE STAY'),\n",
    "                          gr.Dropdown([('YES',1),('NO',0)],label='DOES BOOKING INCLUDES PARKING FACILITY'),\n",
    "                          gr.Number(label='HOW MANY WEEK NIGHTS IN STAY'),\n",
    "                          gr.Slider(minimum=1,maximum=31,step=1,label='WHAT IS DAY OF ARRIVAL'),\n",
    "                          gr.Slider(minimum=1,maximum=12,step=1,label='WHAT IS MONTH OF ARRIVAL'),\n",
    "                          gr.Dropdown([('Mon',0),('Tue',1),('Wed',2),('Thus',3),('Fri',4),('Sat',5),('Sun',6)],label='WHAT IS THE WEEKDAY OF ARRIVAL')],\n",
    "\n",
    "                  outputs = gr.Textbox(label='Prediction'),\n",
    "                  title='INN Group of Hotels',\n",
    "                  description='This application will forcast the calcellation of booking',\n",
    "                  allow_flagging='never')"
   ]
  },
  {
   "cell_type": "code",
   "execution_count": 57,
   "id": "001f4844-35a4-4d1f-b9a9-43c126e5d347",
   "metadata": {},
   "outputs": [
    {
     "name": "stdout",
     "output_type": "stream",
     "text": [
      "Rerunning server... use `close()` to stop if you need to change `launch()` parameters.\n",
      "----\n",
      "\n",
      "To create a public link, set `share=True` in `launch()`.\n"
     ]
    },
    {
     "data": {
      "text/html": [
       "<div><iframe src=\"http://127.0.0.1:7860/\" width=\"100%\" height=\"500\" allow=\"autoplay; camera; microphone; clipboard-read; clipboard-write;\" frameborder=\"0\" allowfullscreen></iframe></div>"
      ],
      "text/plain": [
       "<IPython.core.display.HTML object>"
      ]
     },
     "metadata": {},
     "output_type": "display_data"
    },
    {
     "data": {
      "text/plain": []
     },
     "execution_count": 57,
     "metadata": {},
     "output_type": "execute_result"
    }
   ],
   "source": [
    "iface.launch()"
   ]
  },
  {
   "cell_type": "code",
   "execution_count": null,
   "id": "64c7b4db-0091-4daf-a11d-4f752b8a392d",
   "metadata": {},
   "outputs": [],
   "source": []
  },
  {
   "cell_type": "code",
   "execution_count": null,
   "id": "bf7c209c-69a4-4f3a-83b8-29a671a0fdf9",
   "metadata": {},
   "outputs": [],
   "source": []
  },
  {
   "cell_type": "code",
   "execution_count": null,
   "id": "c613ae98-faf1-47a5-93e0-fb356c2fbe34",
   "metadata": {},
   "outputs": [],
   "source": []
  },
  {
   "cell_type": "code",
   "execution_count": null,
   "id": "1bb248f1-1399-4303-96cf-6d4ecb23349b",
   "metadata": {},
   "outputs": [],
   "source": []
  },
  {
   "cell_type": "code",
   "execution_count": null,
   "id": "1bdae3ea-5f88-462f-ad3f-1313aa99d37b",
   "metadata": {},
   "outputs": [],
   "source": []
  },
  {
   "cell_type": "code",
   "execution_count": null,
   "id": "5831e272-d317-4337-a31b-32d55252d038",
   "metadata": {},
   "outputs": [],
   "source": []
  },
  {
   "cell_type": "code",
   "execution_count": null,
   "id": "24bdf820-3fd7-458f-9e61-7836608c7b80",
   "metadata": {},
   "outputs": [],
   "source": []
  },
  {
   "cell_type": "code",
   "execution_count": null,
   "id": "1516c593-cbec-4f55-aa37-c6f8e188a198",
   "metadata": {},
   "outputs": [],
   "source": []
  },
  {
   "cell_type": "code",
   "execution_count": null,
   "id": "ca433195-968d-42de-a2b0-654a4fdc51dd",
   "metadata": {},
   "outputs": [],
   "source": []
  },
  {
   "cell_type": "code",
   "execution_count": null,
   "id": "0e6a5d37-fe25-4bf6-b003-8c074a1d1c8e",
   "metadata": {},
   "outputs": [],
   "source": []
  },
  {
   "cell_type": "code",
   "execution_count": null,
   "id": "9090dd94-7108-4628-8d11-5e2dd5b37725",
   "metadata": {},
   "outputs": [],
   "source": []
  }
 ],
 "metadata": {
  "kernelspec": {
   "display_name": "Python 3 (ipykernel)",
   "language": "python",
   "name": "python3"
  },
  "language_info": {
   "codemirror_mode": {
    "name": "ipython",
    "version": 3
   },
   "file_extension": ".py",
   "mimetype": "text/x-python",
   "name": "python",
   "nbconvert_exporter": "python",
   "pygments_lexer": "ipython3",
   "version": "3.12.4"
  }
 },
 "nbformat": 4,
 "nbformat_minor": 5
}
